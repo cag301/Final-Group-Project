{
 "cells": [
  {
   "cell_type": "markdown",
   "metadata": {},
   "source": [
    "#  **Final Report**"
   ]
  },
  {
   "cell_type": "markdown",
   "metadata": {},
   "source": [
    "###  **Introduction**\n",
    "We are team C&C and we determined the best neighborhood in Pittburgh by analyzing which neighborhood would be the best to live in based on population, homeowner, and crime data. We chose this way to determine the best neighborhood because we are both out-of-state students. We wanted to learn more about what it was like to live here and if some areas are safer than others. Prior to this metric we also considered basing the best neighborhood off transportation accessibility, shopping availabity, and overall housing values of home in different neighborhoods. It was difficult to find concise data on those topics so we decided to choose the metric we have now. "
   ]
  },
  {
   "cell_type": "markdown",
   "metadata": {},
   "source": [
    "### **The Metric**\n",
    "For our analysis we will be using data from the 2020 Pittsburgh Census, Pittsburgh Police Arrest Data, and Pittsburgh Homeowner Housing Values. \n",
    "\n",
    "####  - Census Metric\n",
    "In this metric we will be measuring the total number of residents per neighborhood based on the city data. \n",
    "\n",
    "#### - Arrest Metric\n",
    "In this metric we will be measuring the total number of criminal arrests per neighborhood based on police data. \n",
    "\n",
    "#### - Homeowner Metric\n",
    "This metric is from 2014 and surverys homeowners under 25 to over 65 about the estimated value of their homes. The data does address the margin of error as it is survey data and then organizes the data by neighborhood. In this metric we will be measuring the estimate number of homeowners per neighborhood based on the survey data. "
   ]
  },
  {
   "cell_type": "markdown",
   "metadata": {},
   "source": [
    "### **The Best Neighborhood**\n",
    "From all the given data, we have determined ___ to be the best neighborhood."
   ]
  },
  {
   "cell_type": "markdown",
   "metadata": {},
   "source": [
    "### **Conclusion**"
   ]
  },
  {
   "cell_type": "markdown",
   "metadata": {},
   "source": [
    "Reflect on how the data-driven determination of “best neighborhood” is the same or different from your personal favorite neighborhood. Each member of the group should write their own response to this."
   ]
  },
  {
   "cell_type": "markdown",
   "metadata": {},
   "source": [
    "#### - Christine's Reflection"
   ]
  },
  {
   "cell_type": "markdown",
   "metadata": {},
   "source": [
    "#### - Ciara's Reflection"
   ]
  },
  {
   "cell_type": "code",
   "execution_count": null,
   "metadata": {},
   "outputs": [],
   "source": []
  }
 ],
 "metadata": {
  "kernelspec": {
   "display_name": "Python 3",
   "language": "python",
   "name": "python3"
  },
  "language_info": {
   "codemirror_mode": {
    "name": "ipython",
    "version": 3
   },
   "file_extension": ".py",
   "mimetype": "text/x-python",
   "name": "python",
   "nbconvert_exporter": "python",
   "pygments_lexer": "ipython3",
   "version": "3.8.3"
  }
 },
 "nbformat": 4,
 "nbformat_minor": 4
}
